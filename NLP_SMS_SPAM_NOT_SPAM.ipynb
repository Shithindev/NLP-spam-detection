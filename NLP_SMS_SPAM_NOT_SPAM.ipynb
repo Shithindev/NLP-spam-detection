{
  "cells": [
    {
      "cell_type": "code",
      "execution_count": 1,
      "metadata": {
        "colab": {
          "base_uri": "https://localhost:8080/",
          "height": 423
        },
        "id": "dM72tGmNDs4s",
        "outputId": "00ca2c53-4f32-45d8-e23a-325a9d8948f2"
      },
      "outputs": [
        {
          "data": {
            "text/html": [
              "<div>\n",
              "<style scoped>\n",
              "    .dataframe tbody tr th:only-of-type {\n",
              "        vertical-align: middle;\n",
              "    }\n",
              "\n",
              "    .dataframe tbody tr th {\n",
              "        vertical-align: top;\n",
              "    }\n",
              "\n",
              "    .dataframe thead th {\n",
              "        text-align: right;\n",
              "    }\n",
              "</style>\n",
              "<table border=\"1\" class=\"dataframe\">\n",
              "  <thead>\n",
              "    <tr style=\"text-align: right;\">\n",
              "      <th></th>\n",
              "      <th>S. No.</th>\n",
              "      <th>Message_body</th>\n",
              "      <th>Label</th>\n",
              "    </tr>\n",
              "  </thead>\n",
              "  <tbody>\n",
              "    <tr>\n",
              "      <th>0</th>\n",
              "      <td>1</td>\n",
              "      <td>Rofl. Its true to its name</td>\n",
              "      <td>Non-Spam</td>\n",
              "    </tr>\n",
              "    <tr>\n",
              "      <th>1</th>\n",
              "      <td>2</td>\n",
              "      <td>The guy did some bitching but I acted like i'd...</td>\n",
              "      <td>Non-Spam</td>\n",
              "    </tr>\n",
              "    <tr>\n",
              "      <th>2</th>\n",
              "      <td>3</td>\n",
              "      <td>Pity, * was in mood for that. So...any other s...</td>\n",
              "      <td>Non-Spam</td>\n",
              "    </tr>\n",
              "    <tr>\n",
              "      <th>3</th>\n",
              "      <td>4</td>\n",
              "      <td>Will ü b going to esplanade fr home?</td>\n",
              "      <td>Non-Spam</td>\n",
              "    </tr>\n",
              "    <tr>\n",
              "      <th>4</th>\n",
              "      <td>5</td>\n",
              "      <td>This is the 2nd time we have tried 2 contact u...</td>\n",
              "      <td>Spam</td>\n",
              "    </tr>\n",
              "    <tr>\n",
              "      <th>...</th>\n",
              "      <td>...</td>\n",
              "      <td>...</td>\n",
              "      <td>...</td>\n",
              "    </tr>\n",
              "    <tr>\n",
              "      <th>952</th>\n",
              "      <td>953</td>\n",
              "      <td>hows my favourite person today? r u workin har...</td>\n",
              "      <td>Non-Spam</td>\n",
              "    </tr>\n",
              "    <tr>\n",
              "      <th>953</th>\n",
              "      <td>954</td>\n",
              "      <td>How much you got for cleaning</td>\n",
              "      <td>Non-Spam</td>\n",
              "    </tr>\n",
              "    <tr>\n",
              "      <th>954</th>\n",
              "      <td>955</td>\n",
              "      <td>Sorry da. I gone mad so many pending works wha...</td>\n",
              "      <td>Non-Spam</td>\n",
              "    </tr>\n",
              "    <tr>\n",
              "      <th>955</th>\n",
              "      <td>956</td>\n",
              "      <td>Wat time ü finish?</td>\n",
              "      <td>Non-Spam</td>\n",
              "    </tr>\n",
              "    <tr>\n",
              "      <th>956</th>\n",
              "      <td>957</td>\n",
              "      <td>Just glad to be talking to you.</td>\n",
              "      <td>Non-Spam</td>\n",
              "    </tr>\n",
              "  </tbody>\n",
              "</table>\n",
              "<p>957 rows × 3 columns</p>\n",
              "</div>"
            ],
            "text/plain": [
              "     S. No.                                       Message_body     Label\n",
              "0         1                         Rofl. Its true to its name  Non-Spam\n",
              "1         2  The guy did some bitching but I acted like i'd...  Non-Spam\n",
              "2         3  Pity, * was in mood for that. So...any other s...  Non-Spam\n",
              "3         4               Will ü b going to esplanade fr home?  Non-Spam\n",
              "4         5  This is the 2nd time we have tried 2 contact u...      Spam\n",
              "..      ...                                                ...       ...\n",
              "952     953  hows my favourite person today? r u workin har...  Non-Spam\n",
              "953     954                      How much you got for cleaning  Non-Spam\n",
              "954     955  Sorry da. I gone mad so many pending works wha...  Non-Spam\n",
              "955     956                                 Wat time ü finish?  Non-Spam\n",
              "956     957                    Just glad to be talking to you.  Non-Spam\n",
              "\n",
              "[957 rows x 3 columns]"
            ]
          },
          "execution_count": 1,
          "metadata": {},
          "output_type": "execute_result"
        }
      ],
      "source": [
        "import pandas as pd\n",
        "train=pd.read_csv(r'C:\\Users\\HP\\OneDrive\\Desktop\\NLP\\SMS_train.csv',encoding='ISO-8859-1')\n",
        "train"
      ]
    },
    {
      "cell_type": "code",
      "execution_count": 2,
      "metadata": {
        "colab": {
          "base_uri": "https://localhost:8080/",
          "height": 423
        },
        "id": "9eF-pCnFEV4t",
        "outputId": "647aad13-6bb0-418c-c2e8-187a22793cab"
      },
      "outputs": [
        {
          "data": {
            "text/html": [
              "<div>\n",
              "<style scoped>\n",
              "    .dataframe tbody tr th:only-of-type {\n",
              "        vertical-align: middle;\n",
              "    }\n",
              "\n",
              "    .dataframe tbody tr th {\n",
              "        vertical-align: top;\n",
              "    }\n",
              "\n",
              "    .dataframe thead th {\n",
              "        text-align: right;\n",
              "    }\n",
              "</style>\n",
              "<table border=\"1\" class=\"dataframe\">\n",
              "  <thead>\n",
              "    <tr style=\"text-align: right;\">\n",
              "      <th></th>\n",
              "      <th>S. No.</th>\n",
              "      <th>Message_body</th>\n",
              "      <th>Label</th>\n",
              "    </tr>\n",
              "  </thead>\n",
              "  <tbody>\n",
              "    <tr>\n",
              "      <th>0</th>\n",
              "      <td>1</td>\n",
              "      <td>UpgrdCentre Orange customer, you may now claim...</td>\n",
              "      <td>Spam</td>\n",
              "    </tr>\n",
              "    <tr>\n",
              "      <th>1</th>\n",
              "      <td>2</td>\n",
              "      <td>Loan for any purpose £500 - £75,000. Homeowner...</td>\n",
              "      <td>Spam</td>\n",
              "    </tr>\n",
              "    <tr>\n",
              "      <th>2</th>\n",
              "      <td>3</td>\n",
              "      <td>Congrats! Nokia 3650 video camera phone is you...</td>\n",
              "      <td>Spam</td>\n",
              "    </tr>\n",
              "    <tr>\n",
              "      <th>3</th>\n",
              "      <td>4</td>\n",
              "      <td>URGENT! Your Mobile number has been awarded wi...</td>\n",
              "      <td>Spam</td>\n",
              "    </tr>\n",
              "    <tr>\n",
              "      <th>4</th>\n",
              "      <td>5</td>\n",
              "      <td>Someone has contacted our dating service and e...</td>\n",
              "      <td>Spam</td>\n",
              "    </tr>\n",
              "    <tr>\n",
              "      <th>...</th>\n",
              "      <td>...</td>\n",
              "      <td>...</td>\n",
              "      <td>...</td>\n",
              "    </tr>\n",
              "    <tr>\n",
              "      <th>120</th>\n",
              "      <td>121</td>\n",
              "      <td>7 wonders in My WORLD 7th You 6th Ur style 5th...</td>\n",
              "      <td>Non-Spam</td>\n",
              "    </tr>\n",
              "    <tr>\n",
              "      <th>121</th>\n",
              "      <td>122</td>\n",
              "      <td>Try to do something dear. You read something f...</td>\n",
              "      <td>Non-Spam</td>\n",
              "    </tr>\n",
              "    <tr>\n",
              "      <th>122</th>\n",
              "      <td>123</td>\n",
              "      <td>Sun ah... Thk mayb can if dun have anythin on....</td>\n",
              "      <td>Non-Spam</td>\n",
              "    </tr>\n",
              "    <tr>\n",
              "      <th>123</th>\n",
              "      <td>124</td>\n",
              "      <td>SYMPTOMS when U are in love: \"1.U like listeni...</td>\n",
              "      <td>Non-Spam</td>\n",
              "    </tr>\n",
              "    <tr>\n",
              "      <th>124</th>\n",
              "      <td>125</td>\n",
              "      <td>Great. Have a safe trip. Dont panic surrender ...</td>\n",
              "      <td>Non-Spam</td>\n",
              "    </tr>\n",
              "  </tbody>\n",
              "</table>\n",
              "<p>125 rows × 3 columns</p>\n",
              "</div>"
            ],
            "text/plain": [
              "     S. No.                                       Message_body     Label\n",
              "0         1  UpgrdCentre Orange customer, you may now claim...      Spam\n",
              "1         2  Loan for any purpose £500 - £75,000. Homeowner...      Spam\n",
              "2         3  Congrats! Nokia 3650 video camera phone is you...      Spam\n",
              "3         4  URGENT! Your Mobile number has been awarded wi...      Spam\n",
              "4         5  Someone has contacted our dating service and e...      Spam\n",
              "..      ...                                                ...       ...\n",
              "120     121  7 wonders in My WORLD 7th You 6th Ur style 5th...  Non-Spam\n",
              "121     122  Try to do something dear. You read something f...  Non-Spam\n",
              "122     123  Sun ah... Thk mayb can if dun have anythin on....  Non-Spam\n",
              "123     124  SYMPTOMS when U are in love: \"1.U like listeni...  Non-Spam\n",
              "124     125  Great. Have a safe trip. Dont panic surrender ...  Non-Spam\n",
              "\n",
              "[125 rows x 3 columns]"
            ]
          },
          "execution_count": 2,
          "metadata": {},
          "output_type": "execute_result"
        }
      ],
      "source": [
        "test=pd.read_csv(r'C:\\Users\\HP\\OneDrive\\Desktop\\NLP\\SMS_test.csv',encoding='ISO-8859-1')\n",
        "test"
      ]
    },
    {
      "cell_type": "code",
      "execution_count": 3,
      "metadata": {
        "colab": {
          "base_uri": "https://localhost:8080/",
          "height": 423
        },
        "id": "2SslNjopEmAz",
        "outputId": "30b94478-295d-4419-c608-c6cb1381e5d7"
      },
      "outputs": [
        {
          "data": {
            "text/html": [
              "<div>\n",
              "<style scoped>\n",
              "    .dataframe tbody tr th:only-of-type {\n",
              "        vertical-align: middle;\n",
              "    }\n",
              "\n",
              "    .dataframe tbody tr th {\n",
              "        vertical-align: top;\n",
              "    }\n",
              "\n",
              "    .dataframe thead th {\n",
              "        text-align: right;\n",
              "    }\n",
              "</style>\n",
              "<table border=\"1\" class=\"dataframe\">\n",
              "  <thead>\n",
              "    <tr style=\"text-align: right;\">\n",
              "      <th></th>\n",
              "      <th>S. No.</th>\n",
              "      <th>Message_body</th>\n",
              "      <th>Label</th>\n",
              "    </tr>\n",
              "  </thead>\n",
              "  <tbody>\n",
              "    <tr>\n",
              "      <th>0</th>\n",
              "      <td>1</td>\n",
              "      <td>Rofl. Its true to its name</td>\n",
              "      <td>Non-Spam</td>\n",
              "    </tr>\n",
              "    <tr>\n",
              "      <th>1</th>\n",
              "      <td>2</td>\n",
              "      <td>The guy did some bitching but I acted like i'd...</td>\n",
              "      <td>Non-Spam</td>\n",
              "    </tr>\n",
              "    <tr>\n",
              "      <th>2</th>\n",
              "      <td>3</td>\n",
              "      <td>Pity, * was in mood for that. So...any other s...</td>\n",
              "      <td>Non-Spam</td>\n",
              "    </tr>\n",
              "    <tr>\n",
              "      <th>3</th>\n",
              "      <td>4</td>\n",
              "      <td>Will ü b going to esplanade fr home?</td>\n",
              "      <td>Non-Spam</td>\n",
              "    </tr>\n",
              "    <tr>\n",
              "      <th>4</th>\n",
              "      <td>5</td>\n",
              "      <td>This is the 2nd time we have tried 2 contact u...</td>\n",
              "      <td>Spam</td>\n",
              "    </tr>\n",
              "    <tr>\n",
              "      <th>...</th>\n",
              "      <td>...</td>\n",
              "      <td>...</td>\n",
              "      <td>...</td>\n",
              "    </tr>\n",
              "    <tr>\n",
              "      <th>1077</th>\n",
              "      <td>121</td>\n",
              "      <td>7 wonders in My WORLD 7th You 6th Ur style 5th...</td>\n",
              "      <td>Non-Spam</td>\n",
              "    </tr>\n",
              "    <tr>\n",
              "      <th>1078</th>\n",
              "      <td>122</td>\n",
              "      <td>Try to do something dear. You read something f...</td>\n",
              "      <td>Non-Spam</td>\n",
              "    </tr>\n",
              "    <tr>\n",
              "      <th>1079</th>\n",
              "      <td>123</td>\n",
              "      <td>Sun ah... Thk mayb can if dun have anythin on....</td>\n",
              "      <td>Non-Spam</td>\n",
              "    </tr>\n",
              "    <tr>\n",
              "      <th>1080</th>\n",
              "      <td>124</td>\n",
              "      <td>SYMPTOMS when U are in love: \"1.U like listeni...</td>\n",
              "      <td>Non-Spam</td>\n",
              "    </tr>\n",
              "    <tr>\n",
              "      <th>1081</th>\n",
              "      <td>125</td>\n",
              "      <td>Great. Have a safe trip. Dont panic surrender ...</td>\n",
              "      <td>Non-Spam</td>\n",
              "    </tr>\n",
              "  </tbody>\n",
              "</table>\n",
              "<p>1082 rows × 3 columns</p>\n",
              "</div>"
            ],
            "text/plain": [
              "      S. No.                                       Message_body     Label\n",
              "0          1                         Rofl. Its true to its name  Non-Spam\n",
              "1          2  The guy did some bitching but I acted like i'd...  Non-Spam\n",
              "2          3  Pity, * was in mood for that. So...any other s...  Non-Spam\n",
              "3          4               Will ü b going to esplanade fr home?  Non-Spam\n",
              "4          5  This is the 2nd time we have tried 2 contact u...      Spam\n",
              "...      ...                                                ...       ...\n",
              "1077     121  7 wonders in My WORLD 7th You 6th Ur style 5th...  Non-Spam\n",
              "1078     122  Try to do something dear. You read something f...  Non-Spam\n",
              "1079     123  Sun ah... Thk mayb can if dun have anythin on....  Non-Spam\n",
              "1080     124  SYMPTOMS when U are in love: \"1.U like listeni...  Non-Spam\n",
              "1081     125  Great. Have a safe trip. Dont panic surrender ...  Non-Spam\n",
              "\n",
              "[1082 rows x 3 columns]"
            ]
          },
          "execution_count": 3,
          "metadata": {},
          "output_type": "execute_result"
        }
      ],
      "source": [
        "df=pd.concat([train,test],axis=0,ignore_index=True)\n",
        "df"
      ]
    },
    {
      "cell_type": "code",
      "execution_count": 4,
      "metadata": {
        "colab": {
          "base_uri": "https://localhost:8080/",
          "height": 423
        },
        "id": "koa7sYyGFk80",
        "outputId": "6c9cae41-1d64-49f8-ccc7-1db20b72caa0"
      },
      "outputs": [
        {
          "data": {
            "text/html": [
              "<div>\n",
              "<style scoped>\n",
              "    .dataframe tbody tr th:only-of-type {\n",
              "        vertical-align: middle;\n",
              "    }\n",
              "\n",
              "    .dataframe tbody tr th {\n",
              "        vertical-align: top;\n",
              "    }\n",
              "\n",
              "    .dataframe thead th {\n",
              "        text-align: right;\n",
              "    }\n",
              "</style>\n",
              "<table border=\"1\" class=\"dataframe\">\n",
              "  <thead>\n",
              "    <tr style=\"text-align: right;\">\n",
              "      <th></th>\n",
              "      <th>Message_body</th>\n",
              "      <th>Label</th>\n",
              "    </tr>\n",
              "  </thead>\n",
              "  <tbody>\n",
              "    <tr>\n",
              "      <th>0</th>\n",
              "      <td>Rofl. Its true to its name</td>\n",
              "      <td>Non-Spam</td>\n",
              "    </tr>\n",
              "    <tr>\n",
              "      <th>1</th>\n",
              "      <td>The guy did some bitching but I acted like i'd...</td>\n",
              "      <td>Non-Spam</td>\n",
              "    </tr>\n",
              "    <tr>\n",
              "      <th>2</th>\n",
              "      <td>Pity, * was in mood for that. So...any other s...</td>\n",
              "      <td>Non-Spam</td>\n",
              "    </tr>\n",
              "    <tr>\n",
              "      <th>3</th>\n",
              "      <td>Will ü b going to esplanade fr home?</td>\n",
              "      <td>Non-Spam</td>\n",
              "    </tr>\n",
              "    <tr>\n",
              "      <th>4</th>\n",
              "      <td>This is the 2nd time we have tried 2 contact u...</td>\n",
              "      <td>Spam</td>\n",
              "    </tr>\n",
              "    <tr>\n",
              "      <th>...</th>\n",
              "      <td>...</td>\n",
              "      <td>...</td>\n",
              "    </tr>\n",
              "    <tr>\n",
              "      <th>1077</th>\n",
              "      <td>7 wonders in My WORLD 7th You 6th Ur style 5th...</td>\n",
              "      <td>Non-Spam</td>\n",
              "    </tr>\n",
              "    <tr>\n",
              "      <th>1078</th>\n",
              "      <td>Try to do something dear. You read something f...</td>\n",
              "      <td>Non-Spam</td>\n",
              "    </tr>\n",
              "    <tr>\n",
              "      <th>1079</th>\n",
              "      <td>Sun ah... Thk mayb can if dun have anythin on....</td>\n",
              "      <td>Non-Spam</td>\n",
              "    </tr>\n",
              "    <tr>\n",
              "      <th>1080</th>\n",
              "      <td>SYMPTOMS when U are in love: \"1.U like listeni...</td>\n",
              "      <td>Non-Spam</td>\n",
              "    </tr>\n",
              "    <tr>\n",
              "      <th>1081</th>\n",
              "      <td>Great. Have a safe trip. Dont panic surrender ...</td>\n",
              "      <td>Non-Spam</td>\n",
              "    </tr>\n",
              "  </tbody>\n",
              "</table>\n",
              "<p>1082 rows × 2 columns</p>\n",
              "</div>"
            ],
            "text/plain": [
              "                                           Message_body     Label\n",
              "0                            Rofl. Its true to its name  Non-Spam\n",
              "1     The guy did some bitching but I acted like i'd...  Non-Spam\n",
              "2     Pity, * was in mood for that. So...any other s...  Non-Spam\n",
              "3                  Will ü b going to esplanade fr home?  Non-Spam\n",
              "4     This is the 2nd time we have tried 2 contact u...      Spam\n",
              "...                                                 ...       ...\n",
              "1077  7 wonders in My WORLD 7th You 6th Ur style 5th...  Non-Spam\n",
              "1078  Try to do something dear. You read something f...  Non-Spam\n",
              "1079  Sun ah... Thk mayb can if dun have anythin on....  Non-Spam\n",
              "1080  SYMPTOMS when U are in love: \"1.U like listeni...  Non-Spam\n",
              "1081  Great. Have a safe trip. Dont panic surrender ...  Non-Spam\n",
              "\n",
              "[1082 rows x 2 columns]"
            ]
          },
          "execution_count": 4,
          "metadata": {},
          "output_type": "execute_result"
        }
      ],
      "source": [
        "df.drop(['S. No.'],axis=1,inplace=True)\n",
        "df"
      ]
    },
    {
      "cell_type": "code",
      "execution_count": 5,
      "metadata": {
        "colab": {
          "base_uri": "https://localhost:8080/"
        },
        "id": "-zT_DmSwFwld",
        "outputId": "f22c9238-88b3-4ea0-99af-211fbdf55b36"
      },
      "outputs": [
        {
          "data": {
            "text/plain": [
              "array(['Non-Spam', 'Spam'], dtype=object)"
            ]
          },
          "execution_count": 5,
          "metadata": {},
          "output_type": "execute_result"
        }
      ],
      "source": [
        "df['Label'].unique()"
      ]
    },
    {
      "cell_type": "code",
      "execution_count": 6,
      "metadata": {
        "colab": {
          "base_uri": "https://localhost:8080/",
          "height": 206
        },
        "id": "Wat42ZSuHXQG",
        "outputId": "901b1fb3-a51e-4ec1-f520-46601f510846"
      },
      "outputs": [
        {
          "data": {
            "text/html": [
              "<div>\n",
              "<style scoped>\n",
              "    .dataframe tbody tr th:only-of-type {\n",
              "        vertical-align: middle;\n",
              "    }\n",
              "\n",
              "    .dataframe tbody tr th {\n",
              "        vertical-align: top;\n",
              "    }\n",
              "\n",
              "    .dataframe thead th {\n",
              "        text-align: right;\n",
              "    }\n",
              "</style>\n",
              "<table border=\"1\" class=\"dataframe\">\n",
              "  <thead>\n",
              "    <tr style=\"text-align: right;\">\n",
              "      <th></th>\n",
              "      <th>Message_body</th>\n",
              "      <th>Label</th>\n",
              "    </tr>\n",
              "  </thead>\n",
              "  <tbody>\n",
              "    <tr>\n",
              "      <th>0</th>\n",
              "      <td>Rofl. Its true to its name</td>\n",
              "      <td>0</td>\n",
              "    </tr>\n",
              "    <tr>\n",
              "      <th>1</th>\n",
              "      <td>The guy did some bitching but I acted like i'd...</td>\n",
              "      <td>0</td>\n",
              "    </tr>\n",
              "    <tr>\n",
              "      <th>2</th>\n",
              "      <td>Pity, * was in mood for that. So...any other s...</td>\n",
              "      <td>0</td>\n",
              "    </tr>\n",
              "    <tr>\n",
              "      <th>3</th>\n",
              "      <td>Will ü b going to esplanade fr home?</td>\n",
              "      <td>0</td>\n",
              "    </tr>\n",
              "    <tr>\n",
              "      <th>4</th>\n",
              "      <td>This is the 2nd time we have tried 2 contact u...</td>\n",
              "      <td>1</td>\n",
              "    </tr>\n",
              "  </tbody>\n",
              "</table>\n",
              "</div>"
            ],
            "text/plain": [
              "                                        Message_body  Label\n",
              "0                         Rofl. Its true to its name      0\n",
              "1  The guy did some bitching but I acted like i'd...      0\n",
              "2  Pity, * was in mood for that. So...any other s...      0\n",
              "3               Will ü b going to esplanade fr home?      0\n",
              "4  This is the 2nd time we have tried 2 contact u...      1"
            ]
          },
          "execution_count": 6,
          "metadata": {},
          "output_type": "execute_result"
        }
      ],
      "source": [
        "df['Label']=df['Label'].map({'Spam':1,'Non-Spam':0})\n",
        "df.head()"
      ]
    },
    {
      "cell_type": "code",
      "execution_count": 7,
      "metadata": {
        "colab": {
          "base_uri": "https://localhost:8080/"
        },
        "id": "jJMkWrLgIZ_5",
        "outputId": "1586ad56-5d0d-4623-fe9a-68cbab7f5c53"
      },
      "outputs": [
        {
          "data": {
            "text/plain": [
              "0                              Rofl. Its true to its name\n",
              "1       The guy did some bitching but I acted like i'd...\n",
              "2       Pity, * was in mood for that. So...any other s...\n",
              "3                    Will ü b going to esplanade fr home?\n",
              "4       This is the 2nd time we have tried 2 contact u...\n",
              "                              ...                        \n",
              "1077    7 wonders in My WORLD 7th You 6th Ur style 5th...\n",
              "1078    Try to do something dear. You read something f...\n",
              "1079    Sun ah... Thk mayb can if dun have anythin on....\n",
              "1080    SYMPTOMS when U are in love: \"1.U like listeni...\n",
              "1081    Great. Have a safe trip. Dont panic surrender ...\n",
              "Name: Message_body, Length: 1082, dtype: object"
            ]
          },
          "execution_count": 7,
          "metadata": {},
          "output_type": "execute_result"
        }
      ],
      "source": [
        "msg=df['Message_body']\n",
        "msg"
      ]
    },
    {
      "cell_type": "code",
      "execution_count": 8,
      "metadata": {
        "colab": {
          "base_uri": "https://localhost:8080/"
        },
        "id": "8kYWqtAFI37O",
        "outputId": "a4084ca5-768d-4248-f911-d840c88d5d91"
      },
      "outputs": [
        {
          "data": {
            "text/plain": [
              "0                              Rofl. Its true to its name\n",
              "1       The guy did some bitching but I acted like i'd...\n",
              "2       Pity, * was in mood for that. So...any other s...\n",
              "3                    Will ü b going to esplanade fr home?\n",
              "4       This is the 2nd time we have tried 2 contact u...\n",
              "                              ...                        \n",
              "1077    7 wonders in My WORLD 7th You 6th Ur style 5th...\n",
              "1078    Try to do something dear. You read something f...\n",
              "1079    Sun ah... Thk mayb can if dun have anythin on....\n",
              "1080    SYMPTOMS when U are in love: \"1.U like listeni...\n",
              "1081    Great. Have a safe trip. Dont panic surrender ...\n",
              "Name: Message_body, Length: 1082, dtype: object"
            ]
          },
          "execution_count": 8,
          "metadata": {},
          "output_type": "execute_result"
        }
      ],
      "source": [
        "msg=msg.str.replace('[^a-zA-Z0-9]+',' ')\n",
        "msg"
      ]
    },
    {
      "cell_type": "code",
      "execution_count": 9,
      "metadata": {
        "colab": {
          "base_uri": "https://localhost:8080/"
        },
        "id": "4X8N0QeKLfFi",
        "outputId": "c3deae5c-1c7e-4fce-ba0c-6c6f75bc7879"
      },
      "outputs": [
        {
          "name": "stderr",
          "output_type": "stream",
          "text": [
            "[nltk_data] Downloading package punkt to\n",
            "[nltk_data]     C:\\Users\\HP\\AppData\\Roaming\\nltk_data...\n",
            "[nltk_data]   Package punkt is already up-to-date!\n"
          ]
        },
        {
          "data": {
            "text/plain": [
              "True"
            ]
          },
          "execution_count": 9,
          "metadata": {},
          "output_type": "execute_result"
        }
      ],
      "source": [
        "import nltk\n",
        "from nltk.stem import PorterStemmer\n",
        "from nltk.tokenize import word_tokenize\n",
        "nltk.download('punkt')\n"
      ]
    },
    {
      "cell_type": "code",
      "execution_count": 10,
      "metadata": {
        "colab": {
          "base_uri": "https://localhost:8080/"
        },
        "id": "lSM_ZcNbMhhW",
        "outputId": "62c4c226-6a1c-40e7-ba61-c4926a9252ac"
      },
      "outputs": [
        {
          "data": {
            "text/plain": [
              "0                               rofl . it true to it name\n",
              "1       the guy did some bitch but i act like i 'd be ...\n",
              "2       piti , * wa in mood for that . so ... ani othe...\n",
              "3                       will ü b go to esplanad fr home ?\n",
              "4       thi is the 2nd time we have tri 2 contact u. u...\n",
              "                              ...                        \n",
              "1077    7 wonder in my world 7th you 6th ur style 5th ...\n",
              "1078     tri to do someth dear . you read someth for exam\n",
              "1079    sun ah ... thk mayb can if dun have anythin on...\n",
              "1080    symptom when u are in love : `` 1.u like liste...\n",
              "1081    great . have a safe trip . dont panic surrend ...\n",
              "Name: Message_body, Length: 1082, dtype: object"
            ]
          },
          "execution_count": 10,
          "metadata": {},
          "output_type": "execute_result"
        }
      ],
      "source": [
        "stemmer=PorterStemmer()\n",
        "msg=msg.apply(lambda line:[stemmer.stem(token.lower()) for token in word_tokenize(line)]).apply(lambda token:' '.join(token))\n",
        "msg"
      ]
    },
    {
      "cell_type": "code",
      "execution_count": 11,
      "metadata": {
        "colab": {
          "base_uri": "https://localhost:8080/"
        },
        "id": "d6kg30IzP8Tc",
        "outputId": "046f189c-5819-4392-f0b8-08326839e845"
      },
      "outputs": [
        {
          "name": "stderr",
          "output_type": "stream",
          "text": [
            "[nltk_data] Downloading package stopwords to\n",
            "[nltk_data]     C:\\Users\\HP\\AppData\\Roaming\\nltk_data...\n",
            "[nltk_data]   Package stopwords is already up-to-date!\n"
          ]
        },
        {
          "data": {
            "text/plain": [
              "0                                        rofl . true name\n",
              "1       guy bitch act like 'd interest buy someth els ...\n",
              "2                    piti , * wa mood . ... ani suggest ?\n",
              "3                               ü b go esplanad fr home ?\n",
              "4       thi 2nd time tri 2 contact u. u £750 pound pri...\n",
              "                              ...                        \n",
              "1077    7 wonder world 7th 6th ur style 5th ur smile 4...\n",
              "1078                   tri someth dear . read someth exam\n",
              "1079    sun ah ... thk mayb dun anythin ... thk book e...\n",
              "1080    symptom u love : `` 1.u like listen song 2.u g...\n",
              "1081             great . safe trip . dont panic surrend .\n",
              "Name: Message_body, Length: 1082, dtype: object"
            ]
          },
          "execution_count": 11,
          "metadata": {},
          "output_type": "execute_result"
        }
      ],
      "source": [
        "from nltk.corpus import stopwords\n",
        "nltk.download('stopwords')\n",
        "sw=stopwords.words('english')\n",
        "msg=msg.apply(lambda line:[token for token in word_tokenize(line) if token not in sw]).apply(lambda token:' '.join(token))\n",
        "msg"
      ]
    },
    {
      "cell_type": "code",
      "execution_count": 12,
      "metadata": {
        "colab": {
          "base_uri": "https://localhost:8080/"
        },
        "id": "95pDkvweRf6c",
        "outputId": "73c21eda-59f3-4279-e50b-833bd2d7e40a"
      },
      "outputs": [
        {
          "data": {
            "text/plain": [
              "0                                          rofl true name\n",
              "1       guy bitch act like interest buy someth els nex...\n",
              "2                               piti mood ... ani suggest\n",
              "3                                           esplanad home\n",
              "4       thi 2nd time tri contact £750 pound prize clai...\n",
              "                              ...                        \n",
              "1077    wonder world 7th 6th style 5th smile 4th perso...\n",
              "1078                     tri someth dear read someth exam\n",
              "1079    sun ... thk mayb dun anythin ... thk book less...\n",
              "1080    symptom love 1.u like listen song 2.u get stop...\n",
              "1081                   great safe trip dont panic surrend\n",
              "Name: Message_body, Length: 1082, dtype: object"
            ]
          },
          "execution_count": 12,
          "metadata": {},
          "output_type": "execute_result"
        }
      ],
      "source": [
        "msg=msg.apply(lambda line:[token for token in word_tokenize(line) if len(token)>2]).apply(lambda token:' '.join(token))\n",
        "msg"
      ]
    },
    {
      "cell_type": "code",
      "execution_count": 13,
      "metadata": {
        "colab": {
          "base_uri": "https://localhost:8080/"
        },
        "id": "BaxGJ8aKWagi",
        "outputId": "e4571cdb-c96a-4a09-9554-9de9dcba72d6"
      },
      "outputs": [
        {
          "name": "stdout",
          "output_type": "stream",
          "text": [
            "  (0, 1804)\t0.5086856793431559\n",
            "  (0, 2688)\t0.5352804139572925\n",
            "  (0, 2222)\t0.6743246681420617\n",
            "  (1, 1157)\t0.1975505629026879\n",
            "  (1, 1201)\t0.32775007986689586\n",
            "  (1, 2831)\t0.232360173562465\n",
            "  (1, 1839)\t0.26486371982881535\n",
            "  (1, 1004)\t0.30359792197566066\n",
            "  (1, 2410)\t0.27484084856681323\n",
            "  (1, 648)\t0.27484084856681323\n",
            "  (1, 1440)\t0.3183810904534948\n",
            "  (1, 1584)\t0.21717710288602465\n",
            "  (1, 361)\t0.3539999646600926\n",
            "  (1, 572)\t0.37483567038885635\n",
            "  (1, 1277)\t0.2679790477690628\n",
            "  (2, 2510)\t0.5165656915002457\n",
            "  (2, 430)\t0.36716239650585775\n",
            "  (2, 1761)\t0.5469696796701571\n",
            "  (2, 1994)\t0.5469696796701571\n",
            "  (3, 1353)\t0.5461172911588754\n",
            "  (3, 1031)\t0.8377087228251189\n",
            "  (4, 1814)\t0.28589391563773275\n",
            "  (4, 634)\t0.2739548807688495\n",
            "  (4, 1730)\t0.23592808645161337\n",
            "  (4, 1966)\t0.23197263816682637\n",
            "  :\t:\n",
            "  (1079, 1916)\t0.2706898396742334\n",
            "  (1079, 1778)\t0.2706898396742334\n",
            "  (1079, 2516)\t0.26153957460502464\n",
            "  (1079, 1573)\t0.24774213284441401\n",
            "  (1079, 593)\t0.2374366876682329\n",
            "  (1079, 2610)\t0.49548426568882803\n",
            "  (1079, 1696)\t0.2164896791883823\n",
            "  (1079, 979)\t0.22235769842186565\n",
            "  (1080, 555)\t0.37025990523411034\n",
            "  (1080, 2544)\t0.37025990523411034\n",
            "  (1080, 1595)\t0.3237491068715447\n",
            "  (1080, 429)\t0.3237491068715447\n",
            "  (1080, 2414)\t0.33507584451064965\n",
            "  (1080, 2479)\t0.2208005656522519\n",
            "  (1080, 1636)\t0.2249749608215637\n",
            "  (1080, 2286)\t0.21572034231434808\n",
            "  (1080, 1219)\t0.36602572795540395\n",
            "  (1080, 1584)\t0.21452593732655792\n",
            "  (1080, 1804)\t0.27931042764086844\n",
            "  (1081, 2529)\t0.4791624063199324\n",
            "  (1081, 1941)\t0.4791624063199324\n",
            "  (1081, 955)\t0.30819278764115643\n",
            "  (1081, 2244)\t0.4525275695553008\n",
            "  (1081, 2685)\t0.3734390895085233\n",
            "  (1081, 1264)\t0.31872563060534453\n"
          ]
        }
      ],
      "source": [
        "from sklearn.feature_extraction.text import TfidfVectorizer\n",
        "vec=TfidfVectorizer()\n",
        "data_vec=vec.fit_transform(msg)\n",
        "print(data_vec)"
      ]
    },
    {
      "cell_type": "code",
      "execution_count": 14,
      "metadata": {
        "colab": {
          "base_uri": "https://localhost:8080/"
        },
        "id": "w-ZS76FNYOTh",
        "outputId": "bec286b8-926f-42aa-bbf7-299fe932bb8e"
      },
      "outputs": [
        {
          "data": {
            "text/plain": [
              "(1082, 2950)"
            ]
          },
          "execution_count": 14,
          "metadata": {},
          "output_type": "execute_result"
        }
      ],
      "source": [
        "data_vec.shape"
      ]
    },
    {
      "cell_type": "code",
      "execution_count": 15,
      "metadata": {
        "colab": {
          "base_uri": "https://localhost:8080/"
        },
        "id": "2EITpGSBYQ9t",
        "outputId": "b29d02a6-f323-4ecf-e58a-c8e22fe71228"
      },
      "outputs": [
        {
          "data": {
            "text/plain": [
              "0       0\n",
              "1       0\n",
              "2       0\n",
              "3       0\n",
              "4       1\n",
              "       ..\n",
              "1077    0\n",
              "1078    0\n",
              "1079    0\n",
              "1080    0\n",
              "1081    0\n",
              "Name: Label, Length: 1082, dtype: int64"
            ]
          },
          "execution_count": 15,
          "metadata": {},
          "output_type": "execute_result"
        }
      ],
      "source": [
        "y=df['Label']\n",
        "y"
      ]
    },
    {
      "cell_type": "code",
      "execution_count": 16,
      "metadata": {
        "id": "BfmGk6AvY-sV"
      },
      "outputs": [],
      "source": [
        "from sklearn.model_selection import train_test_split\n",
        "X_train,X_test,y_train,y_test=train_test_split(data_vec,y,test_size=0.3,random_state=42)"
      ]
    },
    {
      "cell_type": "code",
      "execution_count": 17,
      "metadata": {
        "colab": {
          "base_uri": "https://localhost:8080/"
        },
        "id": "KiBGPx6UZeFh",
        "outputId": "ae634bb2-37bc-4c05-83ec-16719c1196c9"
      },
      "outputs": [
        {
          "data": {
            "text/plain": [
              "<757x2950 sparse matrix of type '<class 'numpy.float64'>'\n",
              "\twith 6434 stored elements in Compressed Sparse Row format>"
            ]
          },
          "execution_count": 17,
          "metadata": {},
          "output_type": "execute_result"
        }
      ],
      "source": [
        "X_train"
      ]
    },
    {
      "cell_type": "code",
      "execution_count": 18,
      "metadata": {
        "colab": {
          "base_uri": "https://localhost:8080/"
        },
        "id": "uvu5FsRMZk-g",
        "outputId": "cfd6e843-bcb4-4a68-c65b-366dbb83bd71"
      },
      "outputs": [
        {
          "data": {
            "text/plain": [
              "(757, 2950)"
            ]
          },
          "execution_count": 18,
          "metadata": {},
          "output_type": "execute_result"
        }
      ],
      "source": [
        "X_train.shape"
      ]
    },
    {
      "cell_type": "code",
      "execution_count": 19,
      "metadata": {
        "colab": {
          "base_uri": "https://localhost:8080/"
        },
        "id": "p8Mvon8mZuUe",
        "outputId": "8f887d8f-3c9e-4e72-fe22-35d250c961cd"
      },
      "outputs": [
        {
          "name": "stdout",
          "output_type": "stream",
          "text": [
            "SVC()\n",
            "[0]\n",
            "              precision    recall  f1-score   support\n",
            "\n",
            "           0       0.92      1.00      0.96       269\n",
            "           1       1.00      0.59      0.74        56\n",
            "\n",
            "    accuracy                           0.93       325\n",
            "   macro avg       0.96      0.79      0.85       325\n",
            "weighted avg       0.93      0.93      0.92       325\n",
            "\n",
            "MultinomialNB()\n",
            "[0]\n",
            "              precision    recall  f1-score   support\n",
            "\n",
            "           0       0.93      1.00      0.97       269\n",
            "           1       1.00      0.66      0.80        56\n",
            "\n",
            "    accuracy                           0.94       325\n",
            "   macro avg       0.97      0.83      0.88       325\n",
            "weighted avg       0.95      0.94      0.94       325\n",
            "\n",
            "RandomForestClassifier()\n",
            "[0]\n",
            "              precision    recall  f1-score   support\n",
            "\n",
            "           0       0.95      1.00      0.97       269\n",
            "           1       1.00      0.75      0.86        56\n",
            "\n",
            "    accuracy                           0.96       325\n",
            "   macro avg       0.98      0.88      0.92       325\n",
            "weighted avg       0.96      0.96      0.95       325\n",
            "\n",
            "AdaBoostClassifier()\n",
            "[0]\n",
            "              precision    recall  f1-score   support\n",
            "\n",
            "           0       0.96      0.99      0.97       269\n",
            "           1       0.92      0.80      0.86        56\n",
            "\n",
            "    accuracy                           0.95       325\n",
            "   macro avg       0.94      0.89      0.91       325\n",
            "weighted avg       0.95      0.95      0.95       325\n",
            "\n"
          ]
        }
      ],
      "source": [
        "from sklearn.svm import SVC\n",
        "from sklearn.naive_bayes import MultinomialNB\n",
        "from sklearn.ensemble import RandomForestClassifier\n",
        "from sklearn.ensemble import AdaBoostClassifier\n",
        "from sklearn.metrics import classification_report\n",
        "sv=SVC()\n",
        "nb=MultinomialNB()\n",
        "rf=RandomForestClassifier()\n",
        "ab=AdaBoostClassifier()\n",
        "models=[sv,nb,rf,ab]\n",
        "for model in models:\n",
        "  print(model)\n",
        "  model.fit(X_train,y_train)\n",
        "  pred=model.predict(X_test)\n",
        "  y_pred=model.predict(vec.transform(['rofl true name']))\n",
        "  print(y_pred)\n",
        "  print(classification_report(y_test,pred))"
      ]
    }
  ],
  "metadata": {
    "colab": {
      "provenance": []
    },
    "kernelspec": {
      "display_name": "Python 3",
      "name": "python3"
    },
    "language_info": {
      "codemirror_mode": {
        "name": "ipython",
        "version": 3
      },
      "file_extension": ".py",
      "mimetype": "text/x-python",
      "name": "python",
      "nbconvert_exporter": "python",
      "pygments_lexer": "ipython3",
      "version": "3.11.1"
    }
  },
  "nbformat": 4,
  "nbformat_minor": 0
}
